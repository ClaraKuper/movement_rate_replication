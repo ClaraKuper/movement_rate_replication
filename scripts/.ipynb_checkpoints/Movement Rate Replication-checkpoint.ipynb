{
 "cells": [
  {
   "cell_type": "markdown",
   "id": "c1e5974f-ef89-47d5-952e-685856d1c8b1",
   "metadata": {},
   "source": [
    "# Movement Rate Replication\n",
    "In this notebook, we load pre-processed data and write a conductor function performing the movement rate analysis from Kuper & Rolfs 2024"
   ]
  },
  {
   "cell_type": "markdown",
   "id": "fef9500b-f6c4-427f-acd9-004426d5d5ec",
   "metadata": {},
   "source": [
    "## Step 1: Look at the data\n",
    "You should have a data file, called \"clean_remote_data.csv\" in your data directory.\n",
    "Load this data file with pandas and take a look at it."
   ]
  },
  {
   "cell_type": "code",
   "execution_count": 1,
   "id": "f161175c-e9d7-434a-8a6e-778b26f96a57",
   "metadata": {},
   "outputs": [],
   "source": [
    "# Import needed libraries here\n",
    "import pandas as pd\n",
    "\n",
    "# Define your data path here\n",
    "data_path = '../data/clean_remote_data.csv'"
   ]
  },
  {
   "cell_type": "code",
   "execution_count": 2,
   "id": "ff4635f7-e52a-44d3-b26e-09fd6970a68e",
   "metadata": {},
   "outputs": [
    {
     "data": {
      "text/html": [
       "<div>\n",
       "<style scoped>\n",
       "    .dataframe tbody tr th:only-of-type {\n",
       "        vertical-align: middle;\n",
       "    }\n",
       "\n",
       "    .dataframe tbody tr th {\n",
       "        vertical-align: top;\n",
       "    }\n",
       "\n",
       "    .dataframe thead th {\n",
       "        text-align: right;\n",
       "    }\n",
       "</style>\n",
       "<table border=\"1\" class=\"dataframe\">\n",
       "  <thead>\n",
       "    <tr style=\"text-align: right;\">\n",
       "      <th></th>\n",
       "      <th>success</th>\n",
       "      <th>trial_type</th>\n",
       "      <th>trial_index</th>\n",
       "      <th>time_elapsed</th>\n",
       "      <th>internal_node_id</th>\n",
       "      <th>subject</th>\n",
       "      <th>prolific_id</th>\n",
       "      <th>study_id</th>\n",
       "      <th>session_id</th>\n",
       "      <th>session_number</th>\n",
       "      <th>...</th>\n",
       "      <th>windowWidth</th>\n",
       "      <th>windowHeight</th>\n",
       "      <th>userInfo</th>\n",
       "      <th>platform</th>\n",
       "      <th>flashTime</th>\n",
       "      <th>trialID</th>\n",
       "      <th>stimJumped</th>\n",
       "      <th>flashShown</th>\n",
       "      <th>touchOn_relative</th>\n",
       "      <th>touchOff_relative</th>\n",
       "    </tr>\n",
       "  </thead>\n",
       "  <tbody>\n",
       "    <tr>\n",
       "      <th>0</th>\n",
       "      <td>1.0</td>\n",
       "      <td>canvas-mi-serial</td>\n",
       "      <td>2</td>\n",
       "      <td>5732</td>\n",
       "      <td>0.0-2.0-0.0-0.0</td>\n",
       "      <td>9960</td>\n",
       "      <td>5f50b1bbe29c992335098fb1</td>\n",
       "      <td>6216bbcec318b5df4e482581</td>\n",
       "      <td>626accdbd44d190303c54c55</td>\n",
       "      <td>4.0</td>\n",
       "      <td>...</td>\n",
       "      <td>570.0</td>\n",
       "      <td>320.0</td>\n",
       "      <td>Mozilla/5.0 (Linux; Android 9; U693CL) AppleWe...</td>\n",
       "      <td>Linux armv8l</td>\n",
       "      <td>3.291315</td>\n",
       "      <td>20.0</td>\n",
       "      <td>0.0</td>\n",
       "      <td>1.0</td>\n",
       "      <td>-15.953</td>\n",
       "      <td>5.047</td>\n",
       "    </tr>\n",
       "    <tr>\n",
       "      <th>1</th>\n",
       "      <td>1.0</td>\n",
       "      <td>canvas-mi-serial</td>\n",
       "      <td>2</td>\n",
       "      <td>5732</td>\n",
       "      <td>0.0-2.0-0.0-0.0</td>\n",
       "      <td>9960</td>\n",
       "      <td>5f50b1bbe29c992335098fb1</td>\n",
       "      <td>6216bbcec318b5df4e482581</td>\n",
       "      <td>626accdbd44d190303c54c55</td>\n",
       "      <td>4.0</td>\n",
       "      <td>...</td>\n",
       "      <td>570.0</td>\n",
       "      <td>320.0</td>\n",
       "      <td>Mozilla/5.0 (Linux; Android 9; U693CL) AppleWe...</td>\n",
       "      <td>Linux armv8l</td>\n",
       "      <td>3.291315</td>\n",
       "      <td>20.0</td>\n",
       "      <td>0.0</td>\n",
       "      <td>1.0</td>\n",
       "      <td>182.047</td>\n",
       "      <td>204.047</td>\n",
       "    </tr>\n",
       "    <tr>\n",
       "      <th>2</th>\n",
       "      <td>1.0</td>\n",
       "      <td>canvas-mi-serial</td>\n",
       "      <td>2</td>\n",
       "      <td>5732</td>\n",
       "      <td>0.0-2.0-0.0-0.0</td>\n",
       "      <td>9960</td>\n",
       "      <td>5f50b1bbe29c992335098fb1</td>\n",
       "      <td>6216bbcec318b5df4e482581</td>\n",
       "      <td>626accdbd44d190303c54c55</td>\n",
       "      <td>4.0</td>\n",
       "      <td>...</td>\n",
       "      <td>570.0</td>\n",
       "      <td>320.0</td>\n",
       "      <td>Mozilla/5.0 (Linux; Android 9; U693CL) AppleWe...</td>\n",
       "      <td>Linux armv8l</td>\n",
       "      <td>3.291315</td>\n",
       "      <td>20.0</td>\n",
       "      <td>0.0</td>\n",
       "      <td>1.0</td>\n",
       "      <td>435.047</td>\n",
       "      <td>456.047</td>\n",
       "    </tr>\n",
       "    <tr>\n",
       "      <th>3</th>\n",
       "      <td>1.0</td>\n",
       "      <td>canvas-mi-serial</td>\n",
       "      <td>2</td>\n",
       "      <td>5732</td>\n",
       "      <td>0.0-2.0-0.0-0.0</td>\n",
       "      <td>9960</td>\n",
       "      <td>5f50b1bbe29c992335098fb1</td>\n",
       "      <td>6216bbcec318b5df4e482581</td>\n",
       "      <td>626accdbd44d190303c54c55</td>\n",
       "      <td>4.0</td>\n",
       "      <td>...</td>\n",
       "      <td>570.0</td>\n",
       "      <td>320.0</td>\n",
       "      <td>Mozilla/5.0 (Linux; Android 9; U693CL) AppleWe...</td>\n",
       "      <td>Linux armv8l</td>\n",
       "      <td>3.291315</td>\n",
       "      <td>20.0</td>\n",
       "      <td>0.0</td>\n",
       "      <td>1.0</td>\n",
       "      <td>646.047</td>\n",
       "      <td>669.047</td>\n",
       "    </tr>\n",
       "    <tr>\n",
       "      <th>4</th>\n",
       "      <td>1.0</td>\n",
       "      <td>canvas-mi-serial</td>\n",
       "      <td>2</td>\n",
       "      <td>5732</td>\n",
       "      <td>0.0-2.0-0.0-0.0</td>\n",
       "      <td>9960</td>\n",
       "      <td>5f50b1bbe29c992335098fb1</td>\n",
       "      <td>6216bbcec318b5df4e482581</td>\n",
       "      <td>626accdbd44d190303c54c55</td>\n",
       "      <td>4.0</td>\n",
       "      <td>...</td>\n",
       "      <td>570.0</td>\n",
       "      <td>320.0</td>\n",
       "      <td>Mozilla/5.0 (Linux; Android 9; U693CL) AppleWe...</td>\n",
       "      <td>Linux armv8l</td>\n",
       "      <td>3.291315</td>\n",
       "      <td>20.0</td>\n",
       "      <td>0.0</td>\n",
       "      <td>1.0</td>\n",
       "      <td>871.047</td>\n",
       "      <td>894.047</td>\n",
       "    </tr>\n",
       "  </tbody>\n",
       "</table>\n",
       "<p>5 rows × 44 columns</p>\n",
       "</div>"
      ],
      "text/plain": [
       "   success        trial_type  trial_index  time_elapsed internal_node_id  \\\n",
       "0      1.0  canvas-mi-serial            2          5732  0.0-2.0-0.0-0.0   \n",
       "1      1.0  canvas-mi-serial            2          5732  0.0-2.0-0.0-0.0   \n",
       "2      1.0  canvas-mi-serial            2          5732  0.0-2.0-0.0-0.0   \n",
       "3      1.0  canvas-mi-serial            2          5732  0.0-2.0-0.0-0.0   \n",
       "4      1.0  canvas-mi-serial            2          5732  0.0-2.0-0.0-0.0   \n",
       "\n",
       "   subject               prolific_id                  study_id  \\\n",
       "0     9960  5f50b1bbe29c992335098fb1  6216bbcec318b5df4e482581   \n",
       "1     9960  5f50b1bbe29c992335098fb1  6216bbcec318b5df4e482581   \n",
       "2     9960  5f50b1bbe29c992335098fb1  6216bbcec318b5df4e482581   \n",
       "3     9960  5f50b1bbe29c992335098fb1  6216bbcec318b5df4e482581   \n",
       "4     9960  5f50b1bbe29c992335098fb1  6216bbcec318b5df4e482581   \n",
       "\n",
       "                 session_id  session_number  ... windowWidth windowHeight  \\\n",
       "0  626accdbd44d190303c54c55             4.0  ...       570.0        320.0   \n",
       "1  626accdbd44d190303c54c55             4.0  ...       570.0        320.0   \n",
       "2  626accdbd44d190303c54c55             4.0  ...       570.0        320.0   \n",
       "3  626accdbd44d190303c54c55             4.0  ...       570.0        320.0   \n",
       "4  626accdbd44d190303c54c55             4.0  ...       570.0        320.0   \n",
       "\n",
       "                                            userInfo      platform  flashTime  \\\n",
       "0  Mozilla/5.0 (Linux; Android 9; U693CL) AppleWe...  Linux armv8l   3.291315   \n",
       "1  Mozilla/5.0 (Linux; Android 9; U693CL) AppleWe...  Linux armv8l   3.291315   \n",
       "2  Mozilla/5.0 (Linux; Android 9; U693CL) AppleWe...  Linux armv8l   3.291315   \n",
       "3  Mozilla/5.0 (Linux; Android 9; U693CL) AppleWe...  Linux armv8l   3.291315   \n",
       "4  Mozilla/5.0 (Linux; Android 9; U693CL) AppleWe...  Linux armv8l   3.291315   \n",
       "\n",
       "   trialID  stimJumped  flashShown  touchOn_relative  touchOff_relative  \n",
       "0     20.0         0.0         1.0           -15.953              5.047  \n",
       "1     20.0         0.0         1.0           182.047            204.047  \n",
       "2     20.0         0.0         1.0           435.047            456.047  \n",
       "3     20.0         0.0         1.0           646.047            669.047  \n",
       "4     20.0         0.0         1.0           871.047            894.047  \n",
       "\n",
       "[5 rows x 44 columns]"
      ]
     },
     "execution_count": 2,
     "metadata": {},
     "output_type": "execute_result"
    }
   ],
   "source": [
    "# Load dataset here\n",
    "data = pd.read_csv(data_path)\n",
    "data.head()"
   ]
  },
  {
   "cell_type": "markdown",
   "id": "48a6e424-afe7-4a14-b842-1bd835e042ca",
   "metadata": {},
   "source": [
    "## Reflection\n",
    "- What's the structure of the dataset? \n",
    "- What does one row represent?\n",
    "- Which columns are interesting?"
   ]
  },
  {
   "cell_type": "markdown",
   "id": "37f758d3-6d4f-4072-8571-c9c7ecc2df7c",
   "metadata": {},
   "source": [
    "## Movement Rates: Writing a Conductor Function\n",
    "\n",
    "A \"conductor function\" is a complex function that calls other functions in the right order, and with the right parameters. In order to run the movement rate analysis, a few steps need to happen, and they need to happen in a specific order:\n",
    "\n",
    "- Step 1: Compute raw rates for individual participants\n",
    "- Step 2: Normalize rates to the mean baseline\n",
    "- Step 3: Get metrics from the rates\n",
    "- Step 4: Compare metrics statistically\n",
    "- Step 5: Compare rates with a cluster based permutation test\n",
    "\n",
    "The package \"movement_rates\" has all the functions you need  to do that:\n",
    "- Step 1: \"get_movement_rates_by_participant()\"\n",
    "- Step 2: \"mean_normalize_rates()\"\n",
    "- Step 3: \"get_movement_rate_parameters()\"\n",
    "- Step 4: \"run_anovas()\"\n",
    "- Step 5: \"perform_cluster_based_permutation()\"\n",
    "\n",
    "Each of theses functions takes as input arguments an input file path (from where the computation starts), a pathname (in which folder the results will be saved), and a filename (how the results will be called) and some other parameters that you will find when you look at the function in the movement_rates package.\n",
    "\n",
    "Each of these functions (run_anovas is the exception) also returns the full file path where the result was stored.\n",
    "\n",
    "Can you put these functions together, such that they run the analysis from step 1-5?\n",
    "\n",
    "If you get stuck, you can have a look at the file analysis.py\n",
    "\n",
    "## Structure of the cells below:\n",
    "These cells will guide you first through executing the functions one-by-one so that you can get a feel for what they are doing.\n",
    "Remember: Each function returns the path for a file where they saved additional information - have a look at that file after it was generated to understand what happened. \n",
    "\n",
    "**You are getting some hints for the parameters, but not all parameters are listed or defined correctly!!**\n",
    "\n",
    "In the end, you can put all the functions together in a large \"conductor function\""
   ]
  },
  {
   "cell_type": "code",
   "execution_count": 3,
   "id": "2b24cfe0-6ac3-4530-8bfe-c9f2d439fca0",
   "metadata": {},
   "outputs": [],
   "source": [
    "# import the \"movement_rates\" package\n",
    "import src.movement_rates as mr"
   ]
  },
  {
   "cell_type": "code",
   "execution_count": null,
   "id": "0225162c-9808-40c5-8706-061b5cabcfa6",
   "metadata": {},
   "outputs": [],
   "source": [
    "# Step 0: Define some generic parameters\n",
    "\n",
    "conditions_rates = {\n",
    "    'flash+ jump+': {'flashShown': 1,\n",
    "                  'stimJumped': 1},\n",
    "    'flash+ jump-': {'flashShown': 1,\n",
    "                  'stimJumped': 0},\n",
    "    'flash- jump+': {'flashShown': 0,\n",
    "                  'stimJumped': 1},\n",
    "    'flash- jump-': {'flashShown': 0,\n",
    "                  'stimJumped': 0},\n",
    "}\n",
    "\n",
    "baseline_name = 'flash- jump-'"
   ]
  },
  {
   "cell_type": "markdown",
   "id": "3af457a5-350f-42e8-83ef-d9923a6b7101",
   "metadata": {},
   "source": [
    "## Step 1: Compute Raw Movement Rates"
   ]
  },
  {
   "cell_type": "code",
   "execution_count": null,
   "id": "cd4481be-b532-4af4-9c37-445ca6811540",
   "metadata": {},
   "outputs": [],
   "source": [
    "# Define Parameters\n",
    "trial_data_path = ''\n",
    "rates_raw_filename = ''\n",
    "\n",
    "rate_analysis_parameters = {'window_start': 0,\n",
    "                            'window_end': 0,\n",
    "                            'search_start': 0,\n",
    "                            'search_end': 0,\n",
    "                            'alpha': 0,\n",
    "                            'first_offset': 0,\n",
    "                            'last_offset': 0}\n",
    "\n",
    "move_offset_col = 'touchOn_relative' # touchOn marks the time participants tapped on the screen. This happens at the END of a movement\n",
    "move_onset_col = 'touchOff_relative' # touchOff is the time participants lifted their finder from the screen. This is the ONSET of a movement\n",
    "participant_col = 'prolific_id'\n",
    "touch_order_col = 'choiceOrder'\n",
    "\n",
    "\n",
    "# Run the function"
   ]
  },
  {
   "cell_type": "markdown",
   "id": "df3cd18a-cfb6-48c0-b51e-bcc32f90a0d0",
   "metadata": {},
   "source": [
    "## Step 2: Normalize Rates to Mean Baseline"
   ]
  },
  {
   "cell_type": "code",
   "execution_count": null,
   "id": "c727fc31-af4b-4c7a-89fd-670769271e18",
   "metadata": {},
   "outputs": [],
   "source": [
    "# Define Parameters\n",
    "rates_normalized_filename = ''\n",
    "\n",
    "# Run function"
   ]
  },
  {
   "cell_type": "markdown",
   "id": "813a86af-98bd-4781-878b-8240f1db9a37",
   "metadata": {},
   "source": [
    "## Step 3: Get metrics from the rates"
   ]
  },
  {
   "cell_type": "code",
   "execution_count": null,
   "id": "7053b9f5-d4db-4b0b-908b-ba7fd7c2766c",
   "metadata": {},
   "outputs": [],
   "source": []
  },
  {
   "cell_type": "markdown",
   "id": "0790eacc-d4fa-4709-b484-a3988f4f8d03",
   "metadata": {},
   "source": [
    "## Step 4: Run ANOVAS"
   ]
  },
  {
   "cell_type": "code",
   "execution_count": null,
   "id": "e7035534-187c-4b9d-bf35-f426a3f58a13",
   "metadata": {},
   "outputs": [],
   "source": [
    "# Define Parameters\n",
    "dependent_variables = ['max_deviance', 'latency']\n",
    "independent_variables = ['flash_shown', 'stim_jumped']\n",
    "\n",
    "# Run function"
   ]
  },
  {
   "cell_type": "markdown",
   "id": "f4513838-86a6-4e4d-8012-ddce7494af53",
   "metadata": {},
   "source": [
    "## Step 5: Cluster-based permutation test"
   ]
  },
  {
   "cell_type": "code",
   "execution_count": null,
   "id": "06384523-4bbd-42c3-8433-25ad4b51a13c",
   "metadata": {},
   "outputs": [],
   "source": [
    "# Define Parameters\n",
    "rates_cluster_filename = ''\n",
    "permutation_test_parameters = {'baseline_name': '',\n",
    "                               't_value': 0,\n",
    "                               'n_permutations': 0,\n",
    "                               'percentile_cutoff': 0}\n",
    "\n",
    "# Run Function"
   ]
  },
  {
   "cell_type": "markdown",
   "id": "8b73e66d-43ce-4431-9d95-03e74cd84ee2",
   "metadata": {},
   "source": [
    "## Step 6: Write conductor function"
   ]
  },
  {
   "cell_type": "code",
   "execution_count": null,
   "id": "4b0e190d-613d-4d08-a83e-1b01aacffb49",
   "metadata": {},
   "outputs": [],
   "source": [
    "def movement_rate_analysis():\n",
    "    raise NotImplementedError "
   ]
  },
  {
   "cell_type": "code",
   "execution_count": null,
   "id": "c8058b4d-ac13-47c7-bcc8-c1925d5ba56b",
   "metadata": {},
   "outputs": [],
   "source": [
    "movement_rate_analysis()"
   ]
  }
 ],
 "metadata": {
  "kernelspec": {
   "display_name": "Python 3 (ipykernel)",
   "language": "python",
   "name": "python3"
  },
  "language_info": {
   "codemirror_mode": {
    "name": "ipython",
    "version": 3
   },
   "file_extension": ".py",
   "mimetype": "text/x-python",
   "name": "python",
   "nbconvert_exporter": "python",
   "pygments_lexer": "ipython3",
   "version": "3.10.11"
  }
 },
 "nbformat": 4,
 "nbformat_minor": 5
}
