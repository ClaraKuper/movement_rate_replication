{
 "cells": [
  {
   "cell_type": "markdown",
   "id": "ade93805-9525-4bac-9614-9f0dc8b85061",
   "metadata": {},
   "source": [
    "## Step 1: Import Libraries\n",
    "Import pandas and Matplotlib"
   ]
  },
  {
   "cell_type": "code",
   "execution_count": null,
   "id": "40354254-552f-49ea-8f60-96126dc5b309",
   "metadata": {},
   "outputs": [],
   "source": [
    "import numpy as np\n",
    "import pandas as pd\n",
    "import matplotlib.pyplot as plt"
   ]
  },
  {
   "cell_type": "code",
   "execution_count": null,
   "id": "51d31bbc-8acf-45c6-b7ae-104b0deffee1",
   "metadata": {},
   "outputs": [],
   "source": [
    "# define file path and read\n",
    "data_path = '../results/raw_movement_rates.csv' # define your own file path here\n",
    "data = pd.read_csv(data_path)\n",
    "data.head()"
   ]
  },
  {
   "cell_type": "markdown",
   "id": "d0b5b2be-f39b-41fc-8718-b9b22716aefc",
   "metadata": {},
   "source": [
    "## Step 2: Select only specific columns"
   ]
  },
  {
   "cell_type": "code",
   "execution_count": null,
   "id": "8d075143-ed2f-466a-aa39-07aea343a9a2",
   "metadata": {},
   "outputs": [],
   "source": [
    "# Example 1: Single column\n",
    "column_names_1 = str(-700) # this needs to be a string, not a numeral\n",
    "data[column_names_1].head()"
   ]
  },
  {
   "cell_type": "code",
   "execution_count": null,
   "id": "bbf58401-553e-451c-930d-8a620b825141",
   "metadata": {
    "scrolled": true
   },
   "outputs": [],
   "source": [
    "# Example 2: Multiple columns\n",
    "column_names_2 = [str(-700), str(-699)]\n",
    "data[column_names_2].head()"
   ]
  },
  {
   "cell_type": "code",
   "execution_count": null,
   "id": "403785f3-e157-4ffe-ba7a-bef25e6fa228",
   "metadata": {},
   "outputs": [],
   "source": [
    "# Example 3.1: Interative column names\n",
    "column_names_3_1 = []\n",
    "times = range(-700, 1500)\n",
    "for column_name in times:\n",
    "    column_names_3_1.append(str(column_name))\n",
    "data[column_names_3_1].head()"
   ]
  },
  {
   "cell_type": "code",
   "execution_count": null,
   "id": "b6f41d63-47db-4a9d-adc6-f1b14c79735d",
   "metadata": {},
   "outputs": [],
   "source": [
    "# Example 3.2: Interative column names (short form)\n",
    "times = range(-700, 1500)\n",
    "column_names_3_2 = [str(x) for x in times]\n",
    "data[column_names_3_2].head()"
   ]
  },
  {
   "cell_type": "code",
   "execution_count": null,
   "id": "1fba38d2-12b1-476e-9a1d-2c8a011524ee",
   "metadata": {},
   "outputs": [],
   "source": [
    "# Example 4: Recover times from the column names\n",
    "times = data.columns.values\n",
    "# drop participant and condition\n",
    "times = times[2:]\n",
    "data[times].head()"
   ]
  },
  {
   "cell_type": "markdown",
   "id": "170e6704-16ca-4dc5-8a62-19aa79086558",
   "metadata": {},
   "source": [
    "## Step 3: Plot the rows"
   ]
  },
  {
   "cell_type": "code",
   "execution_count": null,
   "id": "aeaea301-4e3a-4c50-b9f5-2fa853651be2",
   "metadata": {},
   "outputs": [],
   "source": [
    "# Option 1: Use \"plot\" with only one argument\n",
    "# Filter the data frame with a method of your choice\n",
    "times = data.columns.values\n",
    "# drop participant and condition\n",
    "times = times[2:]\n",
    "filtered_data = data[times]\n",
    "\n",
    "# pick one row to plot (for the example)\n",
    "plot_data = filtered_data.loc[0, :]\n",
    "\n",
    "# plot\n",
    "plt.plot(plot_data)\n",
    "plt.ylim(0, 20); # We set an axis limit to avoid seeing only the noise peak at the end. \n",
    "# The \";\" suppresses the output from the last function to be printed. Try uncommenting the last line and deleting the \";\"."
   ]
  },
  {
   "cell_type": "code",
   "execution_count": null,
   "id": "44232059-2e00-4d0d-83b7-76b73916422c",
   "metadata": {},
   "outputs": [],
   "source": [
    "# Option 2: Define \"time\" by hand:\n",
    "\n",
    "# pick the a filter method that already has a by-hand definition of time:\n",
    "times = range(-700, 1500)\n",
    "column_names_3_2 = [str(x) for x in times]\n",
    "filtered_data = data[column_names_3_2]\n",
    "plot_data = filtered_data.loc[0, :]\n",
    "\n",
    "plt.plot(times, plot_data)\n",
    "plt.ylim(0,20);\n",
    "# This should be faster than the call above"
   ]
  },
  {
   "cell_type": "code",
   "execution_count": null,
   "id": "b938bf41-3457-4936-b40e-98a9495bc70d",
   "metadata": {
    "scrolled": true
   },
   "outputs": [],
   "source": [
    "# Option 3: recover the time axis from the columns: \n",
    "\n",
    "times = data.columns.values\n",
    "# drop participant and condition\n",
    "columns = times[2:]\n",
    "time = [int(x) for x in columns] # this is the reverse operation from the str(x) above -> \n",
    "# we translate the string from the column name into an integer\n",
    "filtered_data = data[columns]\n",
    "plot_data = filtered_data.loc[0, :]\n",
    "\n",
    "plt.plot(time, plot_data)\n",
    "plt.ylim([0, 20]);"
   ]
  },
  {
   "cell_type": "markdown",
   "id": "3b6ae444-d880-4ce3-8753-710f6754b99d",
   "metadata": {},
   "source": [
    "## Plot multiple rows"
   ]
  },
  {
   "cell_type": "code",
   "execution_count": null,
   "id": "ebdede48-6f27-4b3e-9492-a372cf89b981",
   "metadata": {},
   "outputs": [],
   "source": [
    "# Define filtered data:\n",
    "test_filtered_data = pd.DataFrame()\n",
    "test_time = []\n",
    "raise NotImplementedError('Pick your data filter method and write it down')\n",
    "\n",
    "for row in data.index:\n",
    "    plot_data = test_filtered_data.loc[row, :]\n",
    "    plt.plot(test_time, plot_data)\n",
    "    plt.ylim(0, 10);"
   ]
  }
 ],
 "metadata": {
  "kernelspec": {
   "display_name": "Python 3 (ipykernel)",
   "language": "python",
   "name": "python3"
  },
  "language_info": {
   "codemirror_mode": {
    "name": "ipython",
    "version": 3
   },
   "file_extension": ".py",
   "mimetype": "text/x-python",
   "name": "python",
   "nbconvert_exporter": "python",
   "pygments_lexer": "ipython3",
   "version": "3.10.11"
  }
 },
 "nbformat": 4,
 "nbformat_minor": 5
}
